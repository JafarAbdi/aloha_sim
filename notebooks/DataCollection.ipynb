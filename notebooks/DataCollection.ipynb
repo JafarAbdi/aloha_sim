{
 "cells": [
  {
   "cell_type": "code",
   "execution_count": null,
   "id": "957a574a-1875-4232-8068-e11c0735953a",
   "metadata": {},
   "outputs": [],
   "source": [
    "import mediapy as media\n",
    "import mujoco\n",
    "import mujoco.viewer\n",
    "import numpy as np\n",
    "import tqdm\n",
    "from dm_control import composer\n",
    "\n",
    "from aloha_sim import task_suite\n",
    "from aloha_sim.aloha import Aloha\n",
    "from aloha_sim.motion_planner import Planner\n",
    "from aloha_sim.tasks.base.aloha2_task import (\n",
    "    right_qpos_to_ctrl,\n",
    ")\n",
    "from aloha_sim.utils.visualization import add_frame_to_renderer\n",
    "from aloha_sim.scripted_policies.marker import get_pick_pose\n",
    "from aloha_sim.scripted_policies.marker import Policy"
   ]
  },
  {
   "cell_type": "code",
   "execution_count": null,
   "id": "49789a90-414c-4738-b9de-46483c645d8b",
   "metadata": {},
   "outputs": [],
   "source": [
    "task_name = \"MarkerRemoveLid\""
   ]
  },
  {
   "cell_type": "code",
   "execution_count": null,
   "id": "9f394e4b-07d4-4b75-af7f-9cef9e186aa7",
   "metadata": {},
   "outputs": [],
   "source": [
    "_DT = 0.02\n",
    "_IMAGE_SIZE = (480, 848)\n",
    "_ALOHA_CAMERAS = {\n",
    "    \"overhead_cam\": _IMAGE_SIZE,\n",
    "    \"worms_eye_cam\": _IMAGE_SIZE,\n",
    "    \"wrist_cam_left\": _IMAGE_SIZE,\n",
    "    \"wrist_cam_right\": _IMAGE_SIZE,\n",
    "}"
   ]
  },
  {
   "cell_type": "code",
   "execution_count": null,
   "id": "e0841494-3c63-42f0-95fc-cff55b23385b",
   "metadata": {},
   "outputs": [],
   "source": [
    "task_class, kwargs = task_suite.TASK_FACTORIES[task_name]\n",
    "task = task_class(\n",
    "    cameras=_ALOHA_CAMERAS,\n",
    "    control_timestep=_DT,\n",
    "    update_interval=1,\n",
    "    image_observation_delay_secs=0.0,\n",
    "    **kwargs,\n",
    ")\n",
    "env = composer.Environment(\n",
    "    task=task,\n",
    "    time_limit=float(\"inf\"),  # No explicit time limit from the environment\n",
    "    random_state=np.random.RandomState(0),  # For reproducibility\n",
    "    recompile_mjcf_every_episode=False,\n",
    "    strip_singleton_obs_buffer_dim=True,\n",
    "    delayed_observation_padding=composer.ObservationPadding.INITIAL_VALUE,\n",
    ")\n",
    "time_step = env.reset()"
   ]
  },
  {
   "cell_type": "code",
   "execution_count": null,
   "id": "1054a6be-a04b-4d10-8406-39bf1a3ec1f1",
   "metadata": {},
   "outputs": [],
   "source": [
    "# random_qpos = env.random_state.uniform(joint_limits[:, 0], joint_limits[:, 1])"
   ]
  },
  {
   "cell_type": "code",
   "execution_count": null,
   "id": "40312573-f72c-4536-8bc0-00e51ec62138",
   "metadata": {},
   "outputs": [],
   "source": [
    "media.show_image(env.physics.render())"
   ]
  },
  {
   "cell_type": "code",
   "execution_count": null,
   "id": "c79e5c2d-d97b-4a45-9b24-eeed4650a95c",
   "metadata": {},
   "outputs": [],
   "source": [
    "policy = Policy(env)"
   ]
  },
  {
   "cell_type": "code",
   "execution_count": null,
   "id": "5e76b8d2-c99a-41e7-bd29-a1c40c47901e",
   "metadata": {},
   "outputs": [],
   "source": [
    "from collections import defaultdict\n",
    "\n",
    "frames = defaultdict(list)\n",
    "\n",
    "\n",
    "def add_cameras(timestep):\n",
    "    for camera_name in _ALOHA_CAMERAS:\n",
    "        frames[camera_name].append(timestep.observation[camera_name])\n",
    "\n",
    "\n",
    "timestep = env.reset()\n",
    "add_cameras(timestep)\n",
    "# policy.setup()\n",
    "policy.reset()\n",
    "\n",
    "while not policy.is_done():\n",
    "    action = policy.step(timestep.observation)\n",
    "    timestep = env.step(action)\n",
    "    add_cameras(timestep)"
   ]
  },
  {
   "cell_type": "code",
   "execution_count": null,
   "id": "31ddd14b-375b-476e-b228-9cd6ca4183b4",
   "metadata": {},
   "outputs": [],
   "source": [
    "media.show_videos(frames, fps=1.0 / 0.01)"
   ]
  },
  {
   "cell_type": "code",
   "execution_count": null,
   "id": "a5a3b894-7147-4f21-9fe1-63ae51a592d8",
   "metadata": {},
   "outputs": [],
   "source": [
    "# _ = env.reset()\n",
    "\n",
    "# Visual options\n",
    "camera = -1\n",
    "\n",
    "with mujoco.Renderer(env.physics.model.ptr, *_IMAGE_SIZE) as renderer:\n",
    "    # Run to make the scene\n",
    "    renderer.update_scene(env.physics.data.ptr, camera)\n",
    "    add_frame_to_renderer(renderer, env.physics.model.ptr, env.physics.data.ptr)\n",
    "    # Render the scene\n",
    "    media.show_image(renderer.render())"
   ]
  }
 ],
 "metadata": {
  "kernelspec": {
   "display_name": "Python 3 (ipykernel)",
   "language": "python",
   "name": "python3"
  },
  "language_info": {
   "codemirror_mode": {
    "name": "ipython",
    "version": 3
   },
   "file_extension": ".py",
   "mimetype": "text/x-python",
   "name": "python",
   "nbconvert_exporter": "python",
   "pygments_lexer": "ipython3"
  }
 },
 "nbformat": 4,
 "nbformat_minor": 5
}
