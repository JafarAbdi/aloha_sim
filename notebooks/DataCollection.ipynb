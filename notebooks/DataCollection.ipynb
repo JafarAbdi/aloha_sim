{
 "cells": [
  {
   "cell_type": "code",
   "execution_count": null,
   "id": "d9c936eb-3cd8-4656-927f-cc24fcc675c6",
   "metadata": {},
   "outputs": [],
   "source": [
    "import aloha_sim\n",
    "import enum"
   ]
  },
  {
   "cell_type": "code",
   "execution_count": null,
   "id": "957a574a-1875-4232-8068-e11c0735953a",
   "metadata": {},
   "outputs": [],
   "source": [
    "from absl import app\n",
    "from absl import flags\n",
    "from absl import logging\n",
    "from aloha_sim import task_suite\n",
    "from dm_control import composer\n",
    "import dm_control\n",
    "import dm_env\n",
    "from dm_env import specs\n",
    "import mujoco\n",
    "import mujoco.viewer\n",
    "import numpy as np\n",
    "import tqdm\n",
    "import mediapy as media\n",
    "from aloha_sim.tasks.base.aloha2_task import _ALL_JOINTS, qpos_to_ctrl, RIGHT_TCP, RIGHT_GRIPPER_CTRL_IDX, RIGHT_GRIPPER_QPOS_IDX, SIM_GRIPPER_QPOS_CLOSE, SIM_GRIPPER_QPOS_OPEN\n",
    "from aloha_sim.utils.collision_checking import check_collision\n",
    "from aloha_sim.motion_planner import MotionPlanner, generate_time_optimal_trajectory, Planner\n",
    "from aloha_sim.cartesian_interpolator import cartesian_interpolator\n",
    "from aloha_sim.ik_solver import IKSolver\n",
    "from  aloha_sim.aloha import Aloha"
   ]
  },
  {
   "cell_type": "code",
   "execution_count": null,
   "id": "49789a90-414c-4738-b9de-46483c645d8b",
   "metadata": {},
   "outputs": [],
   "source": [
    "task_name = \"MarkerRemoveLid\""
   ]
  },
  {
   "cell_type": "code",
   "execution_count": null,
   "id": "9f394e4b-07d4-4b75-af7f-9cef9e186aa7",
   "metadata": {},
   "outputs": [],
   "source": [
    "_DT = 0.02\n",
    "_IMAGE_SIZE = (480, 848)\n",
    "_ALOHA_CAMERAS = {\n",
    "    'overhead_cam': _IMAGE_SIZE,\n",
    "    'worms_eye_cam': _IMAGE_SIZE,\n",
    "    'wrist_cam_left': _IMAGE_SIZE,\n",
    "    'wrist_cam_right': _IMAGE_SIZE,\n",
    "}"
   ]
  },
  {
   "cell_type": "code",
   "execution_count": null,
   "id": "e0841494-3c63-42f0-95fc-cff55b23385b",
   "metadata": {},
   "outputs": [],
   "source": [
    "task_class, kwargs = task_suite.TASK_FACTORIES[task_name]\n",
    "task = task_class(\n",
    "  cameras=_ALOHA_CAMERAS, control_timestep=_DT, update_interval=1, image_observation_delay_secs=0.0, **kwargs\n",
    ")\n",
    "env = composer.Environment(\n",
    "  task=task,\n",
    "  time_limit=float('inf'),  # No explicit time limit from the environment\n",
    "  random_state=np.random.RandomState(0),  # For reproducibility\n",
    "  recompile_mjcf_every_episode=False,\n",
    "  strip_singleton_obs_buffer_dim=True,\n",
    "  delayed_observation_padding=composer.ObservationPadding.INITIAL_VALUE,\n",
    ")\n",
    "time_step = env.reset()"
   ]
  },
  {
   "cell_type": "code",
   "execution_count": null,
   "id": "1054a6be-a04b-4d10-8406-39bf1a3ec1f1",
   "metadata": {},
   "outputs": [],
   "source": [
    "# random_qpos = env.random_state.uniform(joint_limits[:, 0], joint_limits[:, 1])"
   ]
  },
  {
   "cell_type": "code",
   "execution_count": null,
   "id": "40312573-f72c-4536-8bc0-00e51ec62138",
   "metadata": {},
   "outputs": [],
   "source": [
    "media.show_image(env.physics.render())"
   ]
  },
  {
   "cell_type": "code",
   "execution_count": null,
   "id": "089a08b6-8d89-4681-98a1-065bcee94256",
   "metadata": {},
   "outputs": [],
   "source": [
    "aloha = Aloha(env.physics.model.ptr, disable_collisions = {\n",
    "    ('marker//unnamed_body_0', 'cap//unnamed_body_0'),\n",
    "    ('table', 'marker//unnamed_body_0'),\n",
    "    ('left\\\\left_finger_link', 'left\\\\right_finger_link'), \n",
    "    ('right\\\\left_finger_link', 'right\\\\right_finger_link'), \n",
    "    ('table', 'cap//unnamed_body_0')\n",
    "})"
   ]
  },
  {
   "cell_type": "code",
   "execution_count": null,
   "id": "61b156af-f013-4fc2-84ca-57933981852b",
   "metadata": {},
   "outputs": [],
   "source": [
    "from  collections import defaultdict\n",
    "frames = defaultdict(list)\n",
    "\n",
    "env.reset()\n",
    "\n",
    "seq = \"XYZ\"\n",
    "ee_quat = np.zeros(4)\n",
    "mujoco.mju_euler2Quat(ee_quat, [0, 1.57, 3.14], seq)\n",
    "\n",
    "marker_geom = env.physics.data.geom(\"marker//unnamed_geom_0\")\n",
    "marker_quat = np.zeros(4)\n",
    "mujoco.mju_euler2Quat(marker_quat, [0, 0.0, -np.arccos(np.dot([1., 0., 0.], marker_geom.xmat.reshape((3, 3))[:, 2]))], \"XYZ\")\n",
    "\n",
    "quat = np.zeros(4)\n",
    "mujoco.mju_mulQuat(quat, marker_quat, ee_quat)\n",
    "\n",
    "rotation = np.zeros(9)\n",
    "mujoco.mju_quat2Mat(rotation, quat) \n",
    "\n",
    "marker = env.physics.data.body(\"marker/\")\n",
    "\n",
    "pose = np.eye(4)\n",
    "pose[:3, :3] = rotation.reshape((3, 3)) # marker.xmat.reshape((3, 3))\n",
    "pose[:3, 3]  = marker.xpos\n",
    "\n",
    "approach_offset = np.eye(4)\n",
    "approach_offset[2, 3] = 0.1\n",
    "# pose[2, 3] += 0.1\n",
    "\n",
    "object_center = np.eye(4)\n",
    "object_center[2, 3] = 0.05\n",
    "\n",
    "def step_env(env, trajectory):\n",
    "    for index in tqdm.tqdm(range(len(trajectory))):\n",
    "        time_step = env.step(qpos_to_ctrl(trajectory[index]))\n",
    "        for camera_name in _ALOHA_CAMERAS:\n",
    "            frames[camera_name].append(time_step.observation[camera_name])\n",
    "\n",
    "# Pre-approach\n",
    "trajectory = aloha.plan_to_pose(env.physics.data.ptr,  approach_offset @ pose @ object_center, Planner.OMPL)\n",
    "assert trajectory is not None\n",
    "step_env(env, trajectory)\n",
    "\n",
    "retreat_offset = np.eye(4)\n",
    "retreat_offset[2, 3] = 0.0\n",
    "\n",
    "# Approach motion\n",
    "# disable_collisions.update({('right\\\\left_finger_link', 'marker//unnamed_body_0')})\n",
    "# pose[2, 3] -= 0.09\n",
    "trajectory = aloha.plan_to_pose(env.physics.data.ptr, retreat_offset @ pose @ object_center, Planner.CARTESIAN)\n",
    "assert trajectory is not None\n",
    "step_env(env, trajectory)\n",
    "\n",
    "# Close gripper\n",
    "\n",
    "aloha.disable_collisions({('right\\\\left_finger_link', 'marker//unnamed_body_0'), \n",
    "                          ('right\\\\right_finger_link', 'marker//unnamed_body_0'),\n",
    "                          ('table', 'right\\\\right_finger_link'),\n",
    "                          ('table', 'right\\\\left_finger_link')})\n",
    "\n",
    "step_env(env, [aloha.close_gripper(env.physics.data.ptr)] * 10)\n",
    "\n",
    "# Place: Retreat\n",
    "trajectory = aloha.plan_to_pose(env.physics.data.ptr, approach_offset @ pose @ object_center, Planner.CARTESIAN)\n",
    "assert trajectory is not None\n",
    "step_env(env, trajectory)\n",
    "\n",
    "aloha.enable_collisions({('table', 'right\\\\right_finger_link'),\n",
    "                         ('table', 'right\\\\left_finger_link')})\n",
    "\n",
    "RESET_QPOS = np.asarray([\n",
    "    0.0,\n",
    "    -0.96,\n",
    "    1.16,\n",
    "    0.0,\n",
    "    -0.3,\n",
    "    0.0,\n",
    "    SIM_GRIPPER_QPOS_OPEN,\n",
    "    SIM_GRIPPER_QPOS_OPEN,\n",
    "    0.0,\n",
    "    -0.96,\n",
    "    1.16,\n",
    "    0.0,\n",
    "    -0.3,\n",
    "    0.0,\n",
    "    SIM_GRIPPER_QPOS_CLOSE,\n",
    "    SIM_GRIPPER_QPOS_CLOSE,\n",
    "])\n",
    "trajectory = aloha.plan_to_qpos(env.physics.data.ptr, RESET_QPOS)\n",
    "assert trajectory is not None\n",
    "step_env(env, trajectory)"
   ]
  },
  {
   "cell_type": "code",
   "execution_count": null,
   "id": "95e0bb3a-6a27-4be9-8c1a-39a851bb3782",
   "metadata": {},
   "outputs": [],
   "source": [
    "media.show_videos(frames, fps= 1. / 0.01)"
   ]
  }
 ],
 "metadata": {
  "kernelspec": {
   "display_name": "Python 3 (ipykernel)",
   "language": "python",
   "name": "python3"
  },
  "language_info": {
   "codemirror_mode": {
    "name": "ipython",
    "version": 3
   },
   "file_extension": ".py",
   "mimetype": "text/x-python",
   "name": "python",
   "nbconvert_exporter": "python",
   "pygments_lexer": "ipython3"
  }
 },
 "nbformat": 4,
 "nbformat_minor": 5
}
